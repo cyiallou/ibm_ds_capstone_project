{
 "cells": [
  {
   "cell_type": "markdown",
   "metadata": {},
   "source": [
    "# Capstone Project - The Battle of the Neighborhoods\n",
    "### Applied Data Science Capstone by IBM/Coursera\n",
    "\n",
    "In this project, which is part of the Capstone project of the [IBM Data Science Professional Certificate](https://www.coursera.org/professional-certificates/ibm-data-science) the aim is to define an interesting business problem which would need to leverage the Foursquare location data to solve. "
   ]
  },
  {
   "cell_type": "markdown",
   "metadata": {},
   "source": [
    "## Instructions\n",
    "\n",
    "Now that you have been equipped with the skills and the tools to use location data to explore a geographical location, over the course of two weeks, you will have the opportunity to be as creative as you want and come up with an idea to leverage the Foursquare location data to explore or compare neighborhoods or cities of your choice or to come up with a problem that you can use the Foursquare location data to solve. If you cannot think of an idea or a problem, here are some ideas to get you started:\n",
    "\n",
    "In Module 3, we explored New York City and the city of Toronto and segmented and clustered their neighborhoods. Both cities are very diverse and are the financial capitals of their respective countries. One interesting idea would be to compare the neighborhoods of the two cities and determine how similar or dissimilar they are. Is New York City more like Toronto or Paris or some other multicultural city? I will leave it to you to refine this idea.\n",
    "In a city of your choice, if someone is looking to open a restaurant, where would you recommend that they open it? Similarly, if a contractor is trying to start their own business, where would you recommend that they setup their office?\n",
    "These are just a couple of many ideas and problems that can be solved using location data in addition to other datasets. No matter what you decide to do, make sure to provide sufficient justification of why you think what you want to do or solve is important and why would a client or a group of people be interested in your project.\n",
    "\n",
    "Review criteria:\n",
    "This capstone project will be graded by your peers. This capstone project is worth 70% of your total grade. The project will be completed over the course of 2 weeks. Week 1 submissions will be worth 30% whereas week 2 submissions will be worth 40% of your total grade.\n",
    "\n",
    "**For this week, you will required to submit the following:**\n",
    "\n",
    "1. A description of the problem and a discussion of the background. (15 marks)\n",
    "2. A description of the data and how it will be used to solve the problem. (15 marks)\n",
    "\n",
    "**For the second week, the final deliverables of the project will be:**\n",
    "\n",
    "1. A link to your Notebook on your Github repository, showing your code. (15 marks)\n",
    "2. A full report consisting of all of the following components (15 marks):\n",
    "    1. Introduction where you discuss the business problem and who would be interested in this project.\n",
    "    2. Data where you describe the data that will be used to solve the problem and the source of the data.\n",
    "    3. Methodology section which represents the main component of the report where you discuss and describe any exploratory data analysis that you did, any inferential statistical testing that you performed, if any, and what machine learnings were used and why.\n",
    "    4. Results section where you discuss the results.\n",
    "    5. Discussion section where you discuss any observations you noted and any recommendations you can make based on the results.\n",
    "    5. Conclusion section where you conclude the report.\n",
    "3. Your choice of a presentation or blogpost. (10 marks)\n",
    "\n",
    "<br/><br/>\n",
    "\n",
    "Examples of other reports:\n",
    "- https://medium.com/@dougm_9851/the-battle-of-neighborhoods-coursera-ibm-capstone-project-52b4292ef410\n",
    "- https://medium.com/@kunal_chhabra/coursera-capstone-project-the-battle-of-neighbourhoods-7a4aa3e70086\n",
    "- http://www.zinkohlaing.com/data-science/using-machine-learning-to-find-locations-to-open-a-burmese-restaurant-in-toronto-ibm-capstone-project/"
   ]
  },
  {
   "cell_type": "markdown",
   "metadata": {},
   "source": [
    "## Table of contents\n",
    "* [Business Problem](#businessProblem)\n",
    "* [Introduction](#introduction)\n",
    "* [Methodology](#methodology)\n",
    "* [Dependencies](#dependencies)\n",
    "* [Data](#data)\n",
    "* [Analysis](#analysis)\n",
    "* [Results and Discussion](#results)\n",
    "* [Conclusion](#conclusion)"
   ]
  },
  {
   "cell_type": "markdown",
   "metadata": {},
   "source": [
    "## Business Problem <a name=\"businessProblem\"></a>"
   ]
  },
  {
   "cell_type": "markdown",
   "metadata": {},
   "source": [
    "### Project aim: Find the best location in Berlin to open a Vietnamese restaurant \n",
    "\n",
    "**Background:** Suppose you are the owner of a successfull Vietnamese restaurant chain in the UK that wants to open their first restaurant in Berlin, Germany. You ask yourself: _\"Where should I even open my first restaurant?\"_. In an ever increasing data-driven world you realize that you could leverage the hard-won skills of a Data Scientist to help you uncover business value from relevant data which would allow you to reach to a decision. You find a Data Scientist and give him/her this description: _\"I want to open a restaurant in Berlin that would serve Vietnamese food. Which is the best location and why? Show me facts that would support your analysis and conclusion.\"_\n",
    "\n",
    "\n",
    "What follows is the report handed in by the Data Scientist.\n"
   ]
  },
  {
   "cell_type": "markdown",
   "metadata": {},
   "source": [
    "## Introduction <a name=\"introduction\"></a>"
   ]
  },
  {
   "cell_type": "markdown",
   "metadata": {},
   "source": [
    "Factors that can influence the location choice:\n",
    "* **Target customer?** Who are my target customers and where do they live, hang out or work?\n",
    "* **Area specific information:** people's age range, education level, income level, and area crime rate. --> Question to ask: Will this area attract my target customers?\n",
    "* **Area traffic:** The higher the traffic (pedestrians or cars) the better the chances for attracting people off the street.\n",
    "* **Ease of access and visibility:** Is the location easily accesible (by car or foot) and does it have good visibility? Is it easy to drive to the location? Any obstacles to getting there such as one way streets, obstructions, on-going construction?\n",
    "* **Parking availability** at the property itself if possible or nearby. \n",
    "* **Competition** (other restaurants, fast food chains, coffee shops offering light meals etc.)\n",
    "\n",
    "<br/><br/>\n",
    "\n",
    "Sources:\n",
    "* [Why the Location of Your Restaurant is So Important](https://www.tigerchef.com/why-the-location-of-your-business-is.html)\n",
    "* [4 Important Factors When Choosing a Location to Open a Restaurant](https://www.thebalancesmb.com/choosing-a-location-for-your-restaurant-2888635)"
   ]
  },
  {
   "cell_type": "markdown",
   "metadata": {},
   "source": [
    "## Methodology <a name=\"methodology\"></a>"
   ]
  },
  {
   "cell_type": "markdown",
   "metadata": {},
   "source": [
    "1. **General questions asked:**\n",
    "    1. Is it sensible at all to open a Vietnamese restaurant in Berlin?\n",
    "    2. Where are the most successful Vietnamese restuarants in Berlin? (metric to measure success?) --> since we are only interested in the location maybe it makes sense to check it out by number of customer (per month/week) or money it makes (includes delivery and in-restaurant visits)\n",
    "    3. Have several other restaurants opened and closed in the same spot?\n",
    "        - How much of the success is attributed to the location?\n",
    "\n",
    "2. **Analysis:**\n",
    "    1. **Exploratory:**\n",
    "        1. Visualisations (interactive):\n",
    "            1. Map of Berlin that shows all restaurants\n",
    "            2. Map that shows all Vietnamese restaurants (identify N best restaurants: criterion/a?)\n",
    "            3. Map that shows boroughs/neighborhoods by tourist visits\n",
    "            4. Map that shows boroughs/neighborhoods by population\n",
    "            5. Map that shows boroughs/neighborhoods by purchasing power (i.e. how much money do the people that live in those areas have?)\n",
    "            6. What kind of people live in each area? (i.e. families, students, couples without children, singles that have a job, which nationalities? etc.)\n",
    "        2. Analysis:\n",
    "            1. Check nationality of people (or by language) living in an area and correlate that to the restaurants found in that area. **--> What can we uncover from this?**\n",
    "            2. **Profile of people that prefer Viet cuisine.**\n",
    "                * Build profile from the people that have rated the Vietnamese restaurants?\n",
    "            3. Check nationality of people (or by language) living in an area and correlate that to the restaurants found in that area.\n",
    "            4. Where are all the Vietnamese restaurants? (neighbourhoods or boroughs)\n",
    "                - Nationality/Language (1st/2nd) of people living in each of the locations?  (Census Data)\n",
    "                - Is there anything common in these locations?\n",
    "                - What is the distribution of the ratings/likes/people turnover/money spent in each of these locations? (Foursqare API)\n",
    "    - Rank the Viet restaurants in all of Berlin (metric?). Where are the N best located?\n",
    "    2. **Regression analysis? Clustering? Unsupervised learning?**. Factors to consider:\n",
    "        * **Target customer?**\n",
    "        * **Area specific information**  -> **HOW TO BEST DiVIDE THE AREAS??** Using a custom grid? postcodes?\n",
    "        * **Area traffic**\n",
    "        * **Ease of access and visibility**. To this respect: proximity to U, S and bus stops\n",
    "        * **Parking availability** at the property itself if possible or nearby. \n",
    "        * **Competition**\n",
    "\n",
    "3. **Evaluation:**\n",
    "    1. Area population and by purchasing power\n",
    "    2. Tourist visits\n",
    "\n",
    "4. **Assumptions:**\n",
    "    1. The locations recommended in this report are focused on potential dine-in and take-away visits (i.e. location suited for delivery was not considered)\n",
    "    2. Travel distance from the recommended restaurant locations to the manager's house is not taken into account.\n",
    "    3. Target market: \n",
    "        1. Families\n",
    "        2. Everyone else. Most of the families in Berlin live in the outskirts of the city and would likely go out for food on weekends."
   ]
  },
  {
   "cell_type": "markdown",
   "metadata": {},
   "source": [
    "## Dependencies <a name=\"dependencies\"></a>"
   ]
  },
  {
   "cell_type": "markdown",
   "metadata": {},
   "source": [
    "* numpy\n",
    "* numpy.matlib\n",
    "* pyproj\n",
    "* folium\n",
    "* geopy"
   ]
  },
  {
   "cell_type": "markdown",
   "metadata": {},
   "source": [
    "## Data <a name=\"data\"></a>"
   ]
  },
  {
   "cell_type": "markdown",
   "metadata": {},
   "source": [
    "Describe the data that you will be using to solve the problem or execute your idea. Remember that you will need to use the Foursquare location data to solve the problem or execute your idea. You can absolutely use other datasets in combination with the Foursquare location data. So make sure that you provide adequate explanation and discussion, with examples, of the data that you will be using, even if it is only Foursquare location data.\n",
    "\n",
    "<br/><br/>\n",
    "\n",
    "* Foursquare api for restaurant location data:\n",
    "    1. Search for specific type of venues or stores around a given location (regular call)\n",
    "    2. Learn more about a specific venue/store/shop e.g. full address, working hours, menu etc. (premium call)\n",
    "    3. Learn more about a specific Foursquare user, their full name and any tips or photos that they have posted about venues and stores (regular call)\n",
    "    4. Explore a given location by finding what popular spots exist in the vicinity of the location (regular call)\n",
    "    5. Explore trending venues around a given location. These are venues with the highest foot traffic at the time of the API call (regular call)\n",
    "* More restaurant data from other sources (TripAdvisor) --> need a web scraper for that (future work)\n",
    "* Census data for people living in each area/borough/neighborhood\n",
    "    - https://www.statistikportal.de/en\n",
    "    - https://www.statistik-berlin-brandenburg.de/home.asp\n",
    "        - [Demographic data](https://www.businesslocationcenter.de/en/business-location/berlin-at-a-glance/demographic-data/). Used data from the above link.\n",
    "* Census data for language (1st/2nd) of each person living in each area/borough/neighborhood\n",
    "    - Same links as above (especially the second one)\n",
    "* Number of tourists for each area and per week or month\n",
    "* Traffic data: Check this [link](https://www.berlin.de/senuvk/verkehr/) -> For pedestrian traffic\n",
    "* Other sources (might be useful):\n",
    "    - [Berlin economic atlas](https://www.businesslocationcenter.de/wab/maps/main/#/). Has a map of all restaurants --> can I download the data? Homepage [here](https://www.businesslocationcenter.de/en/economic-atlas/) with a download link. Check what kind of data it is before download because they are large files.\n",
    "    - [European Data Incubator](https://edincubator.eu/data-providers-main/)\n",
    "    - Senate Department for the Environment, Transport and Climate Protection, Berlin data download\n",
    "    - https://ergebnisse.zensus2011.de/#StaticContent:11,EINWOHNERZAHLEN,m, (in German)\n",
    "    - Check the downloaded pdf\n",
    "\n",
    "--> Check Yelp?\n",
    "\n",
    "<br/><br/>\n",
    "\n",
    "Based on definition of our problem, factors that will influence our decision are:\n",
    "* number of existing restaurants in the neighborhood (any type of restaurant)\n",
    "* number of and distance to Italian restaurants in the neighborhood, if any\n",
    "* distance of neighborhood from city center\n",
    "\n",
    "We decided to use regularly spaced grid of locations, centered around city center, to define our neighborhoods.\n",
    "\n",
    "Following data sources will be needed to extract/generate the required information:\n",
    "* centers of candidate areas will be generated algorithmically and approximate addresses of centers of those areas will be obtained using **Google Maps API reverse geocoding**\n",
    "* number of restaurants and their type and location in every neighborhood will be obtained using **Foursquare API**\n",
    "* coordinate of Berlin center will be obtained using **Google Maps API geocoding** of well known Berlin location (Alexanderplatz)"
   ]
  },
  {
   "cell_type": "markdown",
   "metadata": {},
   "source": [
    "In order to define an instance of the geocoder, we need to define a user_agent. We will name our agent `'foursquare_agent'`, as shown below."
   ]
  },
  {
   "cell_type": "code",
   "execution_count": 86,
   "metadata": {},
   "outputs": [
    {
     "name": "stdout",
     "output_type": "stream",
     "text": [
      "Alexanderplatz, Mitte, Berlin, 10178, Deutschland\n",
      "Coordinates of Alexanderplatz, Berlin, Germany are [52.52, 13.41]\n"
     ]
    }
   ],
   "source": [
    "#!pip install geopy  # if geopy is not already installed\n",
    "from geopy.geocoders import Nominatim  # to convert an address into latitude and longitude values\n",
    "\n",
    "\n",
    "def get_address_coordinates(address):\n",
    "    \"\"\"Convert a specific address to latitude & longitude\n",
    "    using the Nominatim geocoder from OpenStreetMap.\n",
    "    \"\"\"\n",
    "    try:\n",
    "        # define a custom user_agent and get the location\n",
    "        location = Nominatim(user_agent=\"foursquare_agent\").geocode(address)\n",
    "        print(location)\n",
    "        # decode the location data\n",
    "        lat = location.latitude\n",
    "        lon = location.longitude\n",
    "        return [lat, lon]\n",
    "    except:\n",
    "        return [None, None]\n",
    "\n",
    "\n",
    "ADDRESS = 'Alexanderplatz, Berlin, Germany'  # approximately at the centre of Berlin\n",
    "BERLIN_CENTRE = get_address_coordinates(ADDRESS)\n",
    "print(f'Coordinates of {ADDRESS} are [{BERLIN_CENTRE[0]:.2f}, {BERLIN_CENTRE[1]:.2f}]')\n"
   ]
  },
  {
   "cell_type": "markdown",
   "metadata": {},
   "source": [
    "Create a circular grid centred at BERLIN_CENTRE. Convert location data to cartesian coordinates for easier data calculations. Grid consists of circular areas of radius equal to minor_radius. The aim is to get a list of all restaurants per grid area."
   ]
  },
  {
   "cell_type": "code",
   "execution_count": 64,
   "metadata": {},
   "outputs": [
    {
     "name": "stdout",
     "output_type": "stream",
     "text": [
      "=====> Number of Foursquare API calls to make=400.\n"
     ]
    }
   ],
   "source": [
    "from utils import lonlat_to_xy, create_grid\n",
    "import numpy as np\n",
    "\n",
    "\n",
    "#%%%%%%%%%%%%%%%%%%%%%%%%%%%%%%%%%%%%#\n",
    "# TODO: Remove the code below and create a unittest instead\n",
    "# sanity check\n",
    "x, y = lonlat_to_xy(Lon=BERLIN_CENTRE[1], Lat=BERLIN_CENTRE[0])\n",
    "lo, la = lonlat_to_xy(x, y, inverse=True)\n",
    "assert(round(BERLIN_CENTRE[0], 4)==round(la, 4))\n",
    "assert(round(BERLIN_CENTRE[1], 4)==round(lo, 4))\n",
    "#%%%%%%%%%%%%%%%%%%%%%%%%%%%%%%%%%%%%#\n",
    "\n",
    "\n",
    "# convert BERLIN_CENTRE to UTM coordinates\n",
    "berlin_centre_xy = lonlat_to_xy(Lon=BERLIN_CENTRE[1], Lat=BERLIN_CENTRE[0])\n",
    "\n",
    "# parameters\n",
    "RADIUS = 6000  # search radius with area centre: berlin_centre_xy\n",
    "MINOR_RADIUS = 500  # grid shapes' radius\n",
    "# Note: The values above should take into account the number of API calls\n",
    "# a developer can make. Check out https://developer.foursquare.com/docs/api/troubleshooting/rate-limits\n",
    "\n",
    "# create the grid\n",
    "grid_centres_x, grid_centres_y, area_radius = create_grid(centre=berlin_centre_xy,\n",
    "                                                          radius=RADIUS,\n",
    "                                                          minor_radius=MINOR_RADIUS,\n",
    "                                                          area_shape='circle',\n",
    "                                                          ov=True)\n",
    "# convert cartesian grid centres to longitude and latitude\n",
    "grid_centres_lo, grid_centres_la = lonlat_to_xy(grid_centres_x, grid_centres_y, inverse=True)\n",
    "\n",
    "# store into a single numpy array for easier manipulation\n",
    "grid_centres_longla = np.concatenate((grid_centres_lo.T.reshape(np.prod(grid_centres_lo.shape), 1),\n",
    "                                      grid_centres_la.reshape(np.prod(grid_centres_la.shape), 1)),\n",
    "                                     axis=1)\n",
    "\n",
    "print(f'=====> Number of Foursquare API calls to make={grid_centres_longla.shape[0]}.')\n",
    "\n",
    "# sanity check\n",
    "assert(np.unique(np.sum(grid_centres_longla, axis=1)).shape[0]==grid_centres_longla.shape[0])"
   ]
  },
  {
   "cell_type": "markdown",
   "metadata": {},
   "source": [
    "### Get a list of restaurants per grid (since limit is 50)"
   ]
  },
  {
   "cell_type": "code",
   "execution_count": 3,
   "metadata": {},
   "outputs": [
    {
     "name": "stdout",
     "output_type": "stream",
     "text": [
      "Credentials loaded from file\n"
     ]
    }
   ],
   "source": [
    "from dotenv import load_dotenv  # to read .env\n",
    "from pathlib import Path\n",
    "import os\n",
    "\n",
    "\n",
    "# load the Foursquare credentials from .env (hidden file)\n",
    "if load_dotenv(dotenv_path=Path('.') / '.env'):\n",
    "    CLIENT_ID = os.getenv(\"CLIENT_ID\")\n",
    "    CLIENT_SECRET = os.getenv(\"CLIENT_SECRET\")\n",
    "    print('Credentials loaded from file')\n",
    "else:\n",
    "    CLIENT_ID = \"Your Foursquare Client ID\"\n",
    "    CLIENT_SECRET = \"Your Foursquare Client Secret\"\n"
   ]
  },
  {
   "cell_type": "code",
   "execution_count": 4,
   "metadata": {},
   "outputs": [
    {
     "name": "stderr",
     "output_type": "stream",
     "text": [
      "/Users/costasyiallourides/Documents/ibm_ds_capstone_project/fsquare.py:168: UserWarning: API regural calls limit exceeded\n",
      "  warn(\"API regural calls limit exceeded\")\n"
     ]
    },
    {
     "ename": "ValueError",
     "evalue": "Something went wrong!",
     "output_type": "error",
     "traceback": [
      "\u001b[0;31m---------------------------------------------------------------------------\u001b[0m",
      "\u001b[0;31mValueError\u001b[0m                                Traceback (most recent call last)",
      "\u001b[0;32m<ipython-input-4-809cab9f462d>\u001b[0m in \u001b[0;36m<module>\u001b[0;34m\u001b[0m\n\u001b[1;32m     32\u001b[0m     \u001b[0mall_fsq_data\u001b[0m\u001b[0;34m,\u001b[0m \u001b[0mvenue_ids\u001b[0m\u001b[0;34m,\u001b[0m \u001b[0mrestaurants\u001b[0m \u001b[0;34m=\u001b[0m \u001b[0mfsqdata\u001b[0m\u001b[0;34m\u001b[0m\u001b[0;34m\u001b[0m\u001b[0m\n\u001b[1;32m     33\u001b[0m \u001b[0;32melse\u001b[0m\u001b[0;34m:\u001b[0m\u001b[0;34m\u001b[0m\u001b[0;34m\u001b[0m\u001b[0m\n\u001b[0;32m---> 34\u001b[0;31m     \u001b[0;32mraise\u001b[0m \u001b[0mValueError\u001b[0m\u001b[0;34m(\u001b[0m\u001b[0;34m'Something went wrong!'\u001b[0m\u001b[0;34m)\u001b[0m\u001b[0;34m\u001b[0m\u001b[0;34m\u001b[0m\u001b[0m\n\u001b[0m",
      "\u001b[0;31mValueError\u001b[0m: Something went wrong!"
     ]
    }
   ],
   "source": [
    "############\n",
    "# Use it as a class instead of separate functions --> good for shipping as a finished product\n",
    "############\n",
    "import fsquare  # module\n",
    "\n",
    "\n",
    "## Parameters ##\n",
    "# Categories:  (source: https://developer.foursquare.com/docs/resources/categories)\n",
    "FOOD_CATEGORY = ('4d4b7105d754a06374d81259')  # make it immutable to avoid changing it\n",
    "venue_names = ['Other restaurants', 'Other Asian', 'Vietnamese']\n",
    "venue_categories = {'4d4b7105d754a06374d81259': venue_names[0],\n",
    "                    '4bf58dd8d48988d142941735': venue_names[1],\n",
    "                    '4bf58dd8d48988d14a941735': venue_names[2]}\n",
    "\n",
    "# create the foursquare class instance\n",
    "fsq = fsquare.fsquare(CLIENT_ID, CLIENT_SECRET)\n",
    "\n",
    "## Search parameters ##\n",
    "fixed_search_params, search_params = fsq.fsquare_search_settings(BERLIN_CENTRE[0], BERLIN_CENTRE[1])\n",
    "search_params['radius'] = MINOR_RADIUS  # grid area radius\n",
    "api_params = {'search_params': search_params, 'fixed_search_params': fixed_search_params}\n",
    "# queries = ['restaurant']#['Vietnamesische', 'Vietnamese']\n",
    "queries = [FOOD_CATEGORY[0]]\n",
    "\n",
    "## Get the data (category search) ##\n",
    "fsqdata = fsq.get_fsquare_data(api_params,\n",
    "                               queries,\n",
    "                               tp='cat',\n",
    "                               categories=venue_categories,\n",
    "                               coords=grid_centres_longla,\n",
    "                               verbose=True)\n",
    "if fsqdata:\n",
    "    all_fsq_data, venue_ids, restaurants = fsqdata\n",
    "else:\n",
    "    raise ValueError('Something went wrong!')"
   ]
  },
  {
   "cell_type": "code",
   "execution_count": null,
   "metadata": {},
   "outputs": [],
   "source": [
    "import requests\n",
    "from typing import List, Tuple\n",
    "\n",
    "\n",
    "def make_fsquare_api_call(search_params:dict, fixed_params:dict, tp:str):\n",
    "    \"\"\"Calls the Foursquare API for a search endpoint.\n",
    "    \n",
    "    Arguments:\n",
    "    ----------\n",
    "    search_params: dict,\n",
    "        Holds the specific search parameters i.e. the\n",
    "        search query, coordinates, radious of search and limit.\n",
    "\n",
    "    fixed_params: dict,\n",
    "        Holds the API credentials and version.\n",
    "    \n",
    "    tp: str,\n",
    "        The search type. Can be 'cat' to search for specific\n",
    "        categories or 'qur' to search for string queries.\n",
    "    \n",
    "    Returns:\n",
    "    --------\n",
    "    API call response as a json file.\n",
    "    \"\"\"\n",
    "    if tp=='cat':\n",
    "        a = f'&query={search_params[\"query\"]}'\n",
    "    elif tp=='qur':\n",
    "        a = f'&categoryId={search_params[\"categories\"]}'\n",
    "    else:\n",
    "        raise ValueError(f\"tp can be either 'cat' or 'qur'. Got {tp}.\")\n",
    "    \n",
    "    url = ('https://api.foursquare.com/v2/venues/search'\n",
    "           f'?client_id={fixed_params[\"client_id\"]}'\n",
    "           f'&client_secret={fixed_params[\"client_secret\"]}'\n",
    "           f'&ll={search_params[\"latitude\"]},{search_params[\"longitude\"]}'\n",
    "           f'&v={fixed_params[\"version\"]}'\n",
    "           +a+\n",
    "           f'&radius={search_params[\"radius\"]}'\n",
    "           f'&limit={search_params[\"limit\"]}')\n",
    "    return requests.get(url).json()\n",
    "\n",
    "\n",
    "def fsquare_search_settings() -> Tuple:\n",
    "    \"\"\"Constructs the search settings for the API call.\n",
    "    \n",
    "    Returns:\n",
    "    --------\n",
    "    fixed_search_params: dict,\n",
    "        The API call parameters (avoid changing).\n",
    "        Holds the API credentials and version.\n",
    "\n",
    "    search_params: dict,\n",
    "        The parameters for the search endpoint.\n",
    "    \"\"\"\n",
    "    # construct the fixed search parameters\n",
    "    fixed_search_params = {'client_id': CLIENT_ID,\n",
    "                           'client_secret': CLIENT_SECRET,\n",
    "                           'version': '20200121',  # YYYYMMDD\n",
    "                          }\n",
    "    # change the below as per your request\n",
    "    search_params = {'query': 'replace_this',\n",
    "                     'latitude': BERLIN_CENTRE[0],\n",
    "                     'longitude': BERLIN_CENTRE[1],\n",
    "                     'radius': 500,  # meters, distance from the specified latitude and longitude\n",
    "                     'limit': 50,  # max venues to get back (max=50)\n",
    "                     'categories': 'replace_this'\n",
    "                    }\n",
    "    return fixed_search_params, search_params\n"
   ]
  },
  {
   "cell_type": "markdown",
   "metadata": {},
   "source": [
    "Now we need to find all the restaurants within each area. Separate Vietnamese and other Asian restaurants from the rest. Will be used for plotting later."
   ]
  },
  {
   "cell_type": "code",
   "execution_count": null,
   "metadata": {},
   "outputs": [],
   "source": [
    "from warnings import warn\n",
    "\n",
    "# Categories:  (source: https://developer.foursquare.com/docs/resources/categories)\n",
    "# -----------\n",
    "# Food: 4d4b7105d754a06374d81259\n",
    "# Asian Restaurant: 4bf58dd8d48988d142941735\n",
    "# Vietnamese: 4bf58dd8d48988d14a941735\n",
    "\n",
    "FOOD_CATEGORY = ('4d4b7105d754a06374d81259')\n",
    "venue_names = ['Other restaurants', 'Other Asian', 'Vietnamese']\n",
    "venue_categories = {'4d4b7105d754a06374d81259': venue_names[0],\n",
    "                    '4bf58dd8d48988d142941735': venue_names[1],\n",
    "                    '4bf58dd8d48988d14a941735': venue_names[2]}\n",
    "\n",
    "\n",
    "def get_fsquare_data(api_params:dict, queries:List[str], tp:str, categories={}, coords=[[]], verbose=False) -> Tuple:\n",
    "    \"\"\"Calls the Foursquare API for the search strings in queries\n",
    "       and outputs the final (merged) responses.\n",
    "       \n",
    "    Arguments:\n",
    "    ----------\n",
    "    api_params: dict,\n",
    "        The parameters for the FourSquare API call\n",
    "        (see make_fsquare_api_call).\n",
    "\n",
    "    queries: List[str],\n",
    "        The search strings for the FourSquare API call.\n",
    "\n",
    "    tp: str,\n",
    "        The search type. Can be 'cat' to search for specific\n",
    "        categories or 'qur' to search for string queries.\n",
    "\n",
    "    categories: dict, (Optional. Default={})\n",
    "        The categories to search for.\n",
    "    \n",
    "    coords: List[List] or numpy.ndarray[numpy.ndarray, numpy.ndarray],\n",
    "            (Optional. Default=[[]])\n",
    "        Centre coordinates as (latitude, longitude) of the area(s)\n",
    "        to search.\n",
    "        \n",
    "    verbose: bool, (Optional. Default=False)\n",
    "        Set to True to print out useful messages to track progress.\n",
    "        \n",
    "    Returns:\n",
    "    --------\n",
    "    fsq_data: dict,\n",
    "        The merged responses from the API calls. It stores all the venues.\n",
    "\n",
    "    venue_ids: List[str],\n",
    "        The unique id strings of each venue.\n",
    "        \n",
    "    restaurants: dict,\n",
    "        The merged responses from the API calls. It only stores the venues\n",
    "        specified by the category ID in categories input.\n",
    "    \"\"\"    \n",
    "    # check coords input\n",
    "    if type(coords)==list:\n",
    "        if len(coords)==1 & len(coords[0])==0:\n",
    "            coords = [[api_params['search_params']['latitude'], api_params['search_params']['longitude']]]\n",
    "        number_of_areas_to_search = len(coords)\n",
    "    else:\n",
    "        if sum(coords[0].shape)!=2:\n",
    "            raise ValueError(f'coords must be of shape (?, 2). Got {coords.shape}.')\n",
    "        number_of_areas_to_search = coords.shape[0]\n",
    "\n",
    "    all_fsq_data = {'venues': []}  # to be populated by the API responses\n",
    "    venue_ids = list()  # to be populated by the unique venue ids\n",
    "    restaurants = {}\n",
    "    for _,val in categories.items():\n",
    "        restaurants[val] = []\n",
    "\n",
    "    for i, longlat in enumerate(coords):  # search within each specified area\n",
    "        api_params['search_params']['longitude'] = longlat[0]\n",
    "        api_params['search_params']['latitude'] = longlat[1]\n",
    "        for item in queries:  # search for each query\n",
    "            if tp=='cat':\n",
    "                api_params['search_params']['categories'] = item\n",
    "            elif tp=='qur':\n",
    "                api_params['search_params']['query'] = item\n",
    "            try:\n",
    "                response = make_fsquare_api_call(api_params['search_params'], api_params['fixed_search_params'], tp=tp)\n",
    "                if response['meta']['code']==429:\n",
    "                    warn(\"API regural calls limit exceeded\")\n",
    "                    return None\n",
    "                venues = response['response']['venues']\n",
    "            except:\n",
    "                venues = []\n",
    "            for venue in venues:\n",
    "                # avoid adding duplicates to fsq_data\n",
    "                if venue['id'] not in venue_ids:\n",
    "                    all_fsq_data['venues'].append(venue)\n",
    "                    venue_ids.append(venue['id'])\n",
    "                    \n",
    "                    # add to the restaurants dictionary\n",
    "                    venue_category_id = venue['categories'][0]['id']  # get the venue category id\n",
    "                    if str(venue_category_id) in venue_categories:\n",
    "                        restaurants[venue_categories[str(venue_category_id)]] += [venue]\n",
    "        if verbose & ((i+1) % 10)==0:\n",
    "            print(f'Finished searching area {i+1} of {number_of_areas_to_search}\\n')\n",
    "    if verbose:\n",
    "        print(f'Finished processing {number_of_areas_to_search} areas.')\n",
    "        \n",
    "    return all_fsq_data, venue_ids, restaurants\n",
    "\n",
    "\n",
    "# define the search parameters\n",
    "fixed_search_params, search_params = fsquare_search_settings()\n",
    "search_params['radius'] = MINOR_RADIUS  # grid area radius\n",
    "api_params = {'search_params': search_params, 'fixed_search_params': fixed_search_params}\n",
    "# queries = ['restaurant']#['Vietnamesische', 'Vietnamese']\n",
    "queries = [FOOD_CATEGORY[0]]\n",
    "\n",
    "# get the data (category search)\n",
    "fsqdata = get_fsquare_data(api_params,\n",
    "                           queries,\n",
    "                           tp='cat',\n",
    "                           categories=venue_categories,\n",
    "                           coords=grid_centres_longla,\n",
    "                           verbose=True)\n",
    "if fsqdata:\n",
    "    all_fsq_data, venue_ids, restaurants = fsqdata\n",
    "else:\n",
    "    raise ValueError('Something went wrong!')\n"
   ]
  },
  {
   "cell_type": "code",
   "execution_count": null,
   "metadata": {},
   "outputs": [],
   "source": [
    "fsq_data"
   ]
  },
  {
   "cell_type": "markdown",
   "metadata": {},
   "source": [
    "_\"A position on the Earth is given by the UTM zone number and the easting and northing planar coordinate pair in that zone. The point of origin of each UTM zone is the intersection of the equator and the zone's central meridian. To avoid dealing with negative numbers, the central meridian of each zone is defined to coincide with 500000 meters East. In any zone a point that has an easting of 400000 meters is about 100 km west of the central meridian\"_\n",
    "\n",
    "[source](https://en.wikipedia.org/wiki/Universal_Transverse_Mercator_coordinate_system)"
   ]
  },
  {
   "cell_type": "code",
   "execution_count": null,
   "metadata": {},
   "outputs": [],
   "source": [
    "zone_33_centre_coords = (500000.00, 4649776.22)\n",
    "\n",
    "dummy = lonlat_to_xy(Lon=zone_33_centre_coords[1], Lat=zone_33_centre_coords[0], zone=33, inverse=True)\n",
    "dummy"
   ]
  },
  {
   "cell_type": "code",
   "execution_count": null,
   "metadata": {},
   "outputs": [],
   "source": [
    "# response\n",
    "# response['meta']\n",
    "print(len(response['response']['venues']))\n",
    "# response['response'].keys()\n",
    "\n",
    "for i in range(0, len(response['response']['venues'])):\n",
    "    try:\n",
    "        print(response['response']['venues'][i]['name'])\n",
    "        print('\\t' + response['response']['venues'][i]['categories'][0]['name'])\n",
    "    except:\n",
    "        pass\n"
   ]
  },
  {
   "cell_type": "markdown",
   "metadata": {},
   "source": [
    "## Analysis <a name=\"analysis\"></a>"
   ]
  },
  {
   "cell_type": "markdown",
   "metadata": {},
   "source": [
    "### Visualisations\n",
    "\n"
   ]
  },
  {
   "cell_type": "code",
   "execution_count": 6,
   "metadata": {},
   "outputs": [],
   "source": [
    "#!pip install folium\n",
    "import folium"
   ]
  },
  {
   "cell_type": "code",
   "execution_count": null,
   "metadata": {},
   "outputs": [],
   "source": [
    "# get the location of each restaurant\n",
    "\n",
    "\n",
    "# plot them on a map of Berlin\n",
    "# Legend. stars: Vietnamese restaurants, squares: Other Asian, filled squares: Other restaurants\n",
    "\n"
   ]
  },
  {
   "cell_type": "markdown",
   "metadata": {},
   "source": [
    "The following map of Berlin depicts the grid search area. Markers indicate the centre of each minor grid area."
   ]
  },
  {
   "cell_type": "code",
   "execution_count": 89,
   "metadata": {},
   "outputs": [],
   "source": [
    "\n",
    "map_berlin = folium.Map(location=BERLIN_CENTRE, zoom_start=12)\n",
    "folium.Marker(BERLIN_CENTRE, popup=ADDRESS.split(',')[0]).add_to(map_berlin)\n",
    "for longlat in grid_centres_longla:\n",
    "    lon = longlat[0]\n",
    "    lat = longlat[1]\n",
    "    folium.Circle([lat, lon], radius=2, color='blue', fill=True, fill_opacity=1).add_to(map_berlin)\n",
    "\n",
    "# map_berlin  # show the map"
   ]
  },
  {
   "cell_type": "markdown",
   "metadata": {},
   "source": [
    "Now plot the restaurants. First create a colour dictionary for the different venues:"
   ]
  },
  {
   "cell_type": "code",
   "execution_count": 92,
   "metadata": {},
   "outputs": [
    {
     "data": {
      "text/plain": [
       "{'Other restaurants': 'beige',\n",
       " 'Other Asian': 'orange',\n",
       " 'Vietnamese': 'green',\n",
       " 'Other': 'darkgreen'}"
      ]
     },
     "execution_count": 92,
     "metadata": {},
     "output_type": "execute_result"
    }
   ],
   "source": [
    "# create a colour dictionary for the different venues\n",
    "folium_colours = list(folium.map.Icon.color_options)\n",
    "venue_colors = {name:folium_colours[i] for i,name in enumerate(venue_names)}\n",
    "venue_colors['Other'] = folium_colours[len(venue_names)]\n",
    "venue_colors"
   ]
  },
  {
   "cell_type": "code",
   "execution_count": 88,
   "metadata": {},
   "outputs": [
    {
     "ename": "SyntaxError",
     "evalue": "invalid syntax (<ipython-input-88-5b89e028675b>, line 13)",
     "output_type": "error",
     "traceback": [
      "\u001b[0;36m  File \u001b[0;32m\"<ipython-input-88-5b89e028675b>\"\u001b[0;36m, line \u001b[0;32m13\u001b[0m\n\u001b[0;31m    lat =\u001b[0m\n\u001b[0m          ^\u001b[0m\n\u001b[0;31mSyntaxError\u001b[0m\u001b[0;31m:\u001b[0m invalid syntax\n"
     ]
    }
   ],
   "source": [
    "# create map\n",
    "map_berlin = folium.Map(location=BERLIN_CENTRE, zoom_start=12)\n",
    "folium.Marker(BERLIN_CENTRE, popup=ADDRESS.split(',')[0]).add_to(map_berlin)\n",
    "\n",
    "# plot the restaurant locations with different colours\n",
    "for venue_categ_num,venues in restaurants:\n",
    "    # Get the latitude and longitude from the restaurants[venue category]\n",
    "    lat = \n",
    "    lon = \n",
    "    \n",
    "    # now plot using the correct colour\n",
    "    if venue_categ_num in venue_categories:\n",
    "        folium.Circle([lat, lon], radius=2,\n",
    "                      color=venue_colors[venue_categories[venue_categ_num]],\n",
    "                      fill=True, fill_opacity=1).add_to(map_berlin)\n",
    "    else:\n",
    "        folium.Circle([lat, lon], radius=2,\n",
    "                      color=venue_colors['Other'],\n",
    "                      fill=True, fill_opacity=1).add_to(map_berlin)\n",
    "\n",
    "# DIFFERENT PLOT METHOD:\n",
    "#folium.CircleMarker([lat, lon], radius=2, color='blue', fill=True, fill_color='blue', fill_opacity=1).add_to(map_berlin) \n",
    "# ADD MARKER:\n",
    "# folium.Marker([lat, lon]).add_to(map_berlin)\n",
    "\n",
    "map_berlin  # show the map"
   ]
  },
  {
   "cell_type": "markdown",
   "metadata": {},
   "source": [
    "## Results and Discussion <a name=\"results\"></a>"
   ]
  },
  {
   "cell_type": "code",
   "execution_count": null,
   "metadata": {},
   "outputs": [],
   "source": []
  },
  {
   "cell_type": "markdown",
   "metadata": {},
   "source": [
    "## Conclusion <a name=\"conclusion\"></a>"
   ]
  },
  {
   "cell_type": "markdown",
   "metadata": {},
   "source": [
    "Maybe have a separate section \"Recommendation\":\n",
    "\n",
    "For best visibility it is advisable to open the restaurant on a major road within the recommended areas."
   ]
  },
  {
   "cell_type": "code",
   "execution_count": null,
   "metadata": {},
   "outputs": [],
   "source": []
  },
  {
   "cell_type": "code",
   "execution_count": null,
   "metadata": {},
   "outputs": [],
   "source": []
  },
  {
   "cell_type": "code",
   "execution_count": null,
   "metadata": {},
   "outputs": [],
   "source": []
  }
 ],
 "metadata": {
  "kernelspec": {
   "display_name": "Python 3",
   "language": "python",
   "name": "python3"
  },
  "language_info": {
   "codemirror_mode": {
    "name": "ipython",
    "version": 3
   },
   "file_extension": ".py",
   "mimetype": "text/x-python",
   "name": "python",
   "nbconvert_exporter": "python",
   "pygments_lexer": "ipython3",
   "version": "3.7.6"
  }
 },
 "nbformat": 4,
 "nbformat_minor": 4
}
