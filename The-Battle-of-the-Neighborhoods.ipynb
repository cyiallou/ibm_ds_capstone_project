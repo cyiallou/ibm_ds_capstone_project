{
 "cells": [
  {
   "cell_type": "markdown",
   "metadata": {},
   "source": [
    "# Capstone Project - The Battle of the Neighborhoods\n",
    "### Applied Data Science Capstone by IBM/Coursera\n",
    "\n",
    "In this project, which is part of the Capstone project of the [IBM Data Science Professional Certificate](https://www.coursera.org/professional-certificates/ibm-data-science) the aim is to define an interesting business problem which would need to leverage the Foursquare location data to solve. "
   ]
  },
  {
   "cell_type": "markdown",
   "metadata": {},
   "source": [
    "## Instructions\n",
    "\n",
    "Now that you have been equipped with the skills and the tools to use location data to explore a geographical location, over the course of two weeks, you will have the opportunity to be as creative as you want and come up with an idea to leverage the Foursquare location data to explore or compare neighborhoods or cities of your choice or to come up with a problem that you can use the Foursquare location data to solve. If you cannot think of an idea or a problem, here are some ideas to get you started:\n",
    "\n",
    "In Module 3, we explored New York City and the city of Toronto and segmented and clustered their neighborhoods. Both cities are very diverse and are the financial capitals of their respective countries. One interesting idea would be to compare the neighborhoods of the two cities and determine how similar or dissimilar they are. Is New York City more like Toronto or Paris or some other multicultural city? I will leave it to you to refine this idea.\n",
    "In a city of your choice, if someone is looking to open a restaurant, where would you recommend that they open it? Similarly, if a contractor is trying to start their own business, where would you recommend that they setup their office?\n",
    "These are just a couple of many ideas and problems that can be solved using location data in addition to other datasets. No matter what you decide to do, make sure to provide sufficient justification of why you think what you want to do or solve is important and why would a client or a group of people be interested in your project.\n",
    "\n",
    "Review criteria:\n",
    "This capstone project will be graded by your peers. This capstone project is worth 70% of your total grade. The project will be completed over the course of 2 weeks. Week 1 submissions will be worth 30% whereas week 2 submissions will be worth 40% of your total grade.\n",
    "\n",
    "**For this week, you will required to submit the following:**\n",
    "\n",
    "1. A description of the problem and a discussion of the background. (15 marks)\n",
    "2. A description of the data and how it will be used to solve the problem. (15 marks)\n",
    "\n",
    "**For the second week, the final deliverables of the project will be:**\n",
    "\n",
    "1. A link to your Notebook on your Github repository, showing your code. (15 marks)\n",
    "2. A full report consisting of all of the following components (15 marks):\n",
    "    1. Introduction where you discuss the business problem and who would be interested in this project.\n",
    "    2. Data where you describe the data that will be used to solve the problem and the source of the data.\n",
    "    3. Methodology section which represents the main component of the report where you discuss and describe any exploratory data analysis that you did, any inferential statistical testing that you performed, if any, and what machine learnings were used and why.\n",
    "    4. Results section where you discuss the results.\n",
    "    5. Discussion section where you discuss any observations you noted and any recommendations you can make based on the results.\n",
    "    5. Conclusion section where you conclude the report.\n",
    "3. Your choice of a presentation or blogpost. (10 marks)\n",
    "\n",
    "<br/><br/>\n",
    "\n",
    "Examples of other reports:\n",
    "- https://medium.com/@dougm_9851/the-battle-of-neighborhoods-coursera-ibm-capstone-project-52b4292ef410\n",
    "- https://medium.com/@kunal_chhabra/coursera-capstone-project-the-battle-of-neighbourhoods-7a4aa3e70086\n",
    "- http://www.zinkohlaing.com/data-science/using-machine-learning-to-find-locations-to-open-a-burmese-restaurant-in-toronto-ibm-capstone-project/"
   ]
  },
  {
   "cell_type": "markdown",
   "metadata": {},
   "source": [
    "## Table of contents\n",
    "* [Business Problem](#businessProblem)\n",
    "* [Introduction](#introduction)\n",
    "* [Methodology](#methodology)\n",
    "* [Data](#data)\n",
    "* [Analysis](#analysis)\n",
    "* [Results and Discussion](#results)\n",
    "* [Conclusion](#conclusion)"
   ]
  },
  {
   "cell_type": "markdown",
   "metadata": {},
   "source": [
    "## Business Problem <a name=\"businessProblem\"></a>"
   ]
  },
  {
   "cell_type": "markdown",
   "metadata": {},
   "source": [
    "### Project aim: Find the best location in Berlin to open a Vietnamese restaurant \n",
    "\n",
    "**Background:** Suppose you are the owner of a successfull Vietnamese restaurant chain in the UK that wants to open their first restaurant in Berlin, Germany. You ask yourself: _\"Where should I even open my first restaurant?\"_. In an ever increasing data-driven world you realize that you could leverage the hard-won skills of a Data Scientist to help you uncover business value from relevant data which would allow you to reach to a decision. You find a Data Scientist and give him/her this description: _\"I want to open a restaurant in Berlin that would serve Vietnamese food. Which is the best location and why? Use your skills and show me facts that would support your analysis and conclusion.\"_\n",
    "\n",
    "\n",
    "What follows is the report handed in by the Data Scientist.\n"
   ]
  },
  {
   "cell_type": "markdown",
   "metadata": {},
   "source": [
    "## Introduction <a name=\"introduction\"></a>"
   ]
  },
  {
   "cell_type": "markdown",
   "metadata": {},
   "source": [
    "Factors that can influence the location choice:\n",
    "* **Target customer?** Who are my target customers and where do they live, hang out or work?\n",
    "* **Area specific information:** people's age range, education level, income level, and area crime rate. --> Question to ask: Will this area attract my target customers?\n",
    "* **Area traffic:** The higher the traffic (pedestrians or cars) the better the chances for attracting people off the street.\n",
    "* **Ease of access and visibility:** Is the location easily accesible (by car or foot) and does it have good visibility? Is it easy to drive to the location? Any obstacles to getting there such as one way streets, obstructions, on-going construction?\n",
    "* **Parking availability** at the property itself if possible or nearby. \n",
    "* **Competition** (other restaurants, fast food chains, coffee shops offering light meals etc.)\n",
    "\n",
    "<br/><br/>\n",
    "\n",
    "Sources:\n",
    "* [Why the Location of Your Restaurant is So Important](https://www.tigerchef.com/why-the-location-of-your-business-is.html)\n",
    "* [4 Important Factors When Choosing a Location to Open a Restaurant](https://www.thebalancesmb.com/choosing-a-location-for-your-restaurant-2888635)"
   ]
  },
  {
   "cell_type": "markdown",
   "metadata": {},
   "source": [
    "## Methodology <a name=\"methodology\"></a>"
   ]
  },
  {
   "cell_type": "markdown",
   "metadata": {},
   "source": [
    "1. **General questions asked:**\n",
    "    1. Is it sensible at all to open a Vietnamese restaurant in Berlin?\n",
    "    2. Where are the most successful Vietnamese restuarants in Berlin? (metric to measure success?) --> since we are only interested in the location maybe it makes sense to check it out by number of customer (per month/week) or money it makes (includes delivery and in-restaurant visits)\n",
    "    3. Have several other restaurants opened and closed in the same spot?\n",
    "        - How much of the success is attributed to the location?\n",
    "\n",
    "2. **Analysis:**\n",
    "    1. **Exploratory:**\n",
    "        1. Visualisations (interactive):\n",
    "            1. Map of Berlin that shows all restaurants\n",
    "            2. Map that shows all Vietnamese restaurants (identify N best restaurants: criterion/a?)\n",
    "            3. Map that shows boroughs/neighborhoods by tourist visits\n",
    "            4. Map that shows boroughs/neighborhoods by population\n",
    "            5. Map that shows boroughs/neighborhoods by purchasing power (i.e. how much money do the people that live in those areas have?)\n",
    "            6. What kind of people live in each area? (i.e. families, students, couples without children, singles that have a job, which nationalities? etc.)\n",
    "        2. Analysis:\n",
    "            1. Check nationality of people (or by language) living in an area and correlate that to the restaurants found in that area. **--> What can we uncover from this?**\n",
    "            2. **Profile of people that prefer Viet cuisine.**\n",
    "                * Build profile from the people that have rated the Vietnamese restaurants?\n",
    "            3. Check nationality of people (or by language) living in an area and correlate that to the restaurants found in that area.\n",
    "            4. Where are all the Vietnamese restaurants? (neighbourhoods or boroughs)\n",
    "                - Nationality/Language (1st/2nd) of people living in each of the locations?  (Census Data)\n",
    "                - Is there anything common in these locations?\n",
    "                - What is the distribution of the ratings/likes/people turnover/money spent in each of these locations? (Foursqare API)\n",
    "    - Rank the Viet restaurants in all of Berlin (metric?). Where are the N best located?\n",
    "    2. **Regression analysis? Clustering? Unsupervised learning?**\n",
    "\n",
    "3. **Evaluation:**\n",
    "    1. Area population and by purchasing power\n",
    "    2. Tourist visits\n",
    "\n",
    "4. **Assumptions:**\n",
    "    1. The locations recommended in this report are focused on potential dine-in and take-away visits (i.e. location suited for delivery was not considered)\n",
    "    2. Target market: \n",
    "        1. Families\n",
    "        2. Everyone else. Most of the families in Berlin live in the outskirts of the city and would likely go out for food on weekends."
   ]
  },
  {
   "cell_type": "markdown",
   "metadata": {},
   "source": [
    "## Data <a name=\"data\"></a>"
   ]
  },
  {
   "cell_type": "markdown",
   "metadata": {},
   "source": [
    "Describe the data that you will be using to solve the problem or execute your idea. Remember that you will need to use the Foursquare location data to solve the problem or execute your idea. You can absolutely use other datasets in combination with the Foursquare location data. So make sure that you provide adequate explanation and discussion, with examples, of the data that you will be using, even if it is only Foursquare location data.\n",
    "\n",
    "<br/><br/>\n",
    "\n",
    "* Foursquare api for restaurant location data:\n",
    "    1. Search for specific type of venues or stores around a given location (regular call)\n",
    "    2. Learn more about a specific venue/store/shop e.g. full address, working hours, menu etc. (premium call)\n",
    "    3. Learn more about a specific Foursquare user, their full name and any tips or photos that they have posted about venues and stores (regular call)\n",
    "    4. Explore a given location by finding what popular spots exist in the vicinity of the location (regular call)\n",
    "    5. Explore trending venues around a given location. These are venues with the highest foot traffic at the time of the API call (regular call)\n",
    "* More restaurant data from other sources (TripAdvisor)\n",
    "* Census data for people living in each area/borough/neighborhood\n",
    "* Census data for language (1st/2nd) of each person living in each area/borough/neighborhood\n",
    "* Number of tourists for each area and per week or month\n",
    "\n",
    "--> Check Yelp?\n",
    "\n",
    "<br/><br/>\n",
    "\n",
    "Based on definition of our problem, factors that will influence our decision are:\n",
    "* number of existing restaurants in the neighborhood (any type of restaurant)\n",
    "* number of and distance to Italian restaurants in the neighborhood, if any\n",
    "* distance of neighborhood from city center\n",
    "\n",
    "We decided to use regularly spaced grid of locations, centered around city center, to define our neighborhoods.\n",
    "\n",
    "Following data sources will be needed to extract/generate the required information:\n",
    "* centers of candidate areas will be generated algorithmically and approximate addresses of centers of those areas will be obtained using **Google Maps API reverse geocoding**\n",
    "* number of restaurants and their type and location in every neighborhood will be obtained using **Foursquare API**\n",
    "* coordinate of Berlin center will be obtained using **Google Maps API geocoding** of well known Berlin location (Alexanderplatz)"
   ]
  },
  {
   "cell_type": "markdown",
   "metadata": {},
   "source": [
    "In order to define an instance of the geocoder, we need to define a user_agent. We will name our agent `'foursquare_agent'`, as shown below."
   ]
  },
  {
   "cell_type": "code",
   "execution_count": 1,
   "metadata": {},
   "outputs": [
    {
     "name": "stdout",
     "output_type": "stream",
     "text": [
      "Alexanderplatz, Mitte, Berlin, 10178, Deutschland\n",
      "Coordinates of Alexanderplatz, Berlin, Germany are [52.52, 13.41]\n"
     ]
    }
   ],
   "source": [
    "#!pip install geopy\n",
    "from geopy.geocoders import Nominatim  # to convert an address into latitude and longitude values\n",
    "\n",
    "\n",
    "def get_address_coordinates(address):\n",
    "    \"\"\"Convert a specific address to latitude & longitude\n",
    "    using the Nominatim geocoder from OpenStreetMap.\n",
    "    \"\"\"\n",
    "    try:\n",
    "        # define a custom user_agent and get the location\n",
    "        location = Nominatim(user_agent=\"foursquare_agent\").geocode(address)\n",
    "        print(location)\n",
    "        # decode the location data\n",
    "        lat = location.latitude\n",
    "        lon = location.longitude\n",
    "        return [lat, lon]\n",
    "    except:\n",
    "        return [None, None]\n",
    "\n",
    "\n",
    "address = 'Alexanderplatz, Berlin, Germany'  # approximately at the centre of Berlin\n",
    "lat, lon = get_address_coordinates(address)\n",
    "print(f'Coordinates of {address} are [{lat:.2f}, {lon:.2f}]')\n"
   ]
  },
  {
   "cell_type": "code",
   "execution_count": 2,
   "metadata": {},
   "outputs": [
    {
     "name": "stdout",
     "output_type": "stream",
     "text": [
      "Credentials loaded from file\n"
     ]
    }
   ],
   "source": [
    "from dotenv import load_dotenv  # to read .env\n",
    "from pathlib import Path\n",
    "import os\n",
    "\n",
    "\n",
    "# load the Foursquare credentials from .env (hidden file)\n",
    "if load_dotenv(dotenv_path=Path('.') / '.env'):\n",
    "    CLIENT_ID = os.getenv(\"CLIENT_ID\")\n",
    "    CLIENT_SECRET = os.getenv(\"CLIENT_SECRET\")\n",
    "    print('Credentials loaded from file')\n",
    "else:\n",
    "    CLIENT_ID = \"Your Foursquare Client ID\"\n",
    "    CLIENT_SECRET = \"Your Foursquare Client Secret\"\n"
   ]
  },
  {
   "cell_type": "code",
   "execution_count": 44,
   "metadata": {},
   "outputs": [],
   "source": [
    "import requests  # library to handle requests\n",
    "from typing import List, Tuple\n",
    "\n",
    "\n",
    "def get_foursquare_data(search_params: dict, fixed_params: dict):\n",
    "    \"\"\"Calls the Foursquare API for a search endpoint.\n",
    "    \n",
    "    Arguments:\n",
    "    ----------\n",
    "        search_params: dict, Holds the specific search parameters i.e. the\n",
    "                       search query, coordinates and the radious of search\n",
    "                       \n",
    "        fixed_params: dict, Holds the API credentials and version\n",
    "    \n",
    "    \n",
    "    Returns:\n",
    "    --------\n",
    "        response: API call response as a json file\n",
    "    \"\"\"\n",
    "    url = ('https://api.foursquare.com/v2/venues/search'\n",
    "           f'?client_id={fixed_params[\"client_id\"]}'\n",
    "           f'&client_secret={fixed_params[\"client_secret\"]}'\n",
    "           f'&ll={search_params[\"latitude\"]},{search_params[\"longitude\"]}'\n",
    "           f'&v={fixed_params[\"version\"]}'\n",
    "           f'&query={search_params[\"search_query\"]}'\n",
    "           f'&radius={search_params[\"radius\"]}'\n",
    "           f'&limit={fixed_params[\"limit\"]}')\n",
    "    response = requests.get(url).json()\n",
    "    return response\n",
    "\n",
    "\n",
    "def foursquare_search_settings() -> Tuple:\n",
    "    # construct the fixed search parameters\n",
    "    fixed_search_params = {'client_id': CLIENT_ID,\n",
    "                           'client_secret': CLIENT_SECRET,\n",
    "                           'version': '20200121',  # YYYYMMDD\n",
    "                           'limit': 50  # max is 50\n",
    "                          }\n",
    "\n",
    "    # change the below as per your request\n",
    "    search_params = {'search_query': 'replace_this',\n",
    "                     'latitude': lat,\n",
    "                     'longitude': lon,\n",
    "                     'radius': 14000  # meters, distance from the specified latitude and longitude\n",
    "                    }\n",
    "    return search_params, fixed_search_params\n"
   ]
  },
  {
   "cell_type": "markdown",
   "metadata": {},
   "source": [
    "Now we need to find all the Vietnamese restaurants in Berlin:"
   ]
  },
  {
   "cell_type": "code",
   "execution_count": 45,
   "metadata": {},
   "outputs": [],
   "source": [
    "def prepare_foursquare_data(api_params: dict, queries: List[str]) -> Tuple:\n",
    "    \"\"\"Calls the Foursquare API for the search strings in queries\n",
    "       and outputs the final (merged) responses.\n",
    "       \n",
    "       Arguments:\n",
    "       ----------\n",
    "           api_params: dict, The parameters for the FourSquare API call (see get_foursquare_data)\n",
    "           \n",
    "           queries: List[str], The search strings for the FourSquare API call\n",
    "       \n",
    "       Returns:\n",
    "       --------\n",
    "           fsq_data: dict, The merged responses from the API calls\n",
    "           \n",
    "           venue_ids: List[str], The unique id strings of each venue\n",
    "    \"\"\"\n",
    "    fsq_data = {'venues': []}  # to be populated by the API responses\n",
    "    venue_ids = list()  # to be populated by the unique venue ids\n",
    "    for item in queries:\n",
    "        api_params['search_params']['search_query'] = item\n",
    "        response = get_foursquare_data(api_params['search_params'], api_params['fixed_search_params'])\n",
    "        venues = response['response']['venues']\n",
    "        for venue in venues:\n",
    "            # avoid adding duplicates to fsq_data\n",
    "            if venue['id'] not in venue_ids:\n",
    "                fsq_data['venues'].append(venue)\n",
    "                venue_ids.append(venue['id'])\n",
    "    return fsq_data, venue_ids\n",
    "\n",
    "\n",
    "# get the data\n",
    "search_params, fixed_search_params = foursquare_search_settings()\n",
    "api_params = {'search_params': search_params, 'fixed_search_params': fixed_search_params}\n",
    "queries = ['Vietnamesische', 'Vietnamese']\n",
    "fsq_data, venue_ids = prepare_foursquare_data(api_params, queries)\n",
    "    \n"
   ]
  },
  {
   "cell_type": "code",
   "execution_count": 46,
   "metadata": {},
   "outputs": [
    {
     "data": {
      "text/plain": [
       "{'id': '4dad6bce8154b108febd9e15',\n",
       " 'name': 'Vietnamesische Küche - Com Pho Viet',\n",
       " 'location': {'address': 'Luxemburger Str. 32',\n",
       "  'lat': 52.54590945569875,\n",
       "  'lng': 13.358392132334648,\n",
       "  'labeledLatLngs': [{'label': 'display',\n",
       "    'lat': 52.54590945569875,\n",
       "    'lng': 13.358392132334648}],\n",
       "  'distance': 4592,\n",
       "  'postalCode': '13353',\n",
       "  'cc': 'DE',\n",
       "  'city': 'Berlin',\n",
       "  'state': 'Berlin',\n",
       "  'country': 'Deutschland',\n",
       "  'formattedAddress': ['Luxemburger Str. 32', '13353 Berlin', 'Deutschland']},\n",
       " 'categories': [{'id': '4bf58dd8d48988d14a941735',\n",
       "   'name': 'Vietnamese Restaurant',\n",
       "   'pluralName': 'Vietnamese Restaurants',\n",
       "   'shortName': 'Vietnamese',\n",
       "   'icon': {'prefix': 'https://ss3.4sqi.net/img/categories_v2/food/vietnamese_',\n",
       "    'suffix': '.png'},\n",
       "   'primary': True}],\n",
       " 'referralId': 'v-1579800272',\n",
       " 'hasPerk': False}"
      ]
     },
     "execution_count": 46,
     "metadata": {},
     "output_type": "execute_result"
    }
   ],
   "source": [
    "# example of a venue data\n",
    "fsq_data['venues'][0]"
   ]
  },
  {
   "cell_type": "code",
   "execution_count": 69,
   "metadata": {},
   "outputs": [
    {
     "name": "stdout",
     "output_type": "stream",
     "text": [
      "17\n",
      "Vietnamesische Küche - Com Pho Viet\n",
      "\tVietnamese Restaurant\n",
      "Tom Café - Foodstore • Vietnamesische Spezialitäten\n",
      "\tVietnamese Restaurant\n",
      "Vietnamesische Nachrichtenagentur\n",
      "\tCommunity Center\n",
      "Tônis Vietnamesische Küche\n",
      "\tVietnamese Restaurant\n",
      "Phò12 - Traditionelle Vietnamesische Küche\n",
      "\tVietnamese Restaurant\n",
      "Vietnamesisches Erlebnis Restaurant\n",
      "Van Hoa\n",
      "\tVietnamese Restaurant\n",
      "Otito\n",
      "\tVietnamese Restaurant\n",
      "Mamay\n",
      "\tVietnamese Restaurant\n",
      "Pho - Sushi + vietnamesische Küche\n",
      "\tVietnamese Restaurant\n",
      "A.nam Sushi Bar\n",
      "\tSushi Restaurant\n",
      "H&H Imbiss Vietnamesische Küche\n",
      "\tSnack Place\n",
      "Linh Linh Vietnamese Food & Sushi\n",
      "\tSushi Restaurant\n",
      "Eiscafé & Vietnamesische Küche\n",
      "\tVietnamese Restaurant\n",
      "Botschaft der Sozialistischen Republik Vietnam\n",
      "\tEmbassy / Consulate\n",
      "Unami\n",
      "\tVietnamese Restaurant\n",
      "Soy (Sushi & Vietnamesisches Restaurant) @Berlin-Spandau\n",
      "\tVietnamese Restaurant\n"
     ]
    }
   ],
   "source": [
    "# response\n",
    "# response['meta']\n",
    "print(len(response['response']['venues']))\n",
    "# response['response'].keys()\n",
    "\n",
    "for i in range(0, len(response['response']['venues'])):\n",
    "    try:\n",
    "        print(response['response']['venues'][i]['name'])\n",
    "        print('\\t' + response['response']['venues'][i]['categories'][0]['name'])\n",
    "    except:\n",
    "        pass\n"
   ]
  },
  {
   "cell_type": "markdown",
   "metadata": {},
   "source": [
    "## Analysis <a name=\"analysis\"></a>"
   ]
  },
  {
   "cell_type": "markdown",
   "metadata": {},
   "source": [
    "### Visualisations\n",
    "\n"
   ]
  },
  {
   "cell_type": "markdown",
   "metadata": {},
   "source": [
    "## Results and Discussion <a name=\"results\"></a>"
   ]
  },
  {
   "cell_type": "code",
   "execution_count": null,
   "metadata": {},
   "outputs": [],
   "source": []
  },
  {
   "cell_type": "markdown",
   "metadata": {},
   "source": [
    "## Conclusion <a name=\"conclusion\"></a>"
   ]
  },
  {
   "cell_type": "markdown",
   "metadata": {},
   "source": [
    "Maybe have a separate section \"Recommendation\":\n",
    "\n",
    "For best visibility it is advisable to open the restaurant on a major road within the recommended areas."
   ]
  },
  {
   "cell_type": "code",
   "execution_count": null,
   "metadata": {},
   "outputs": [],
   "source": []
  },
  {
   "cell_type": "code",
   "execution_count": null,
   "metadata": {},
   "outputs": [],
   "source": []
  },
  {
   "cell_type": "code",
   "execution_count": null,
   "metadata": {},
   "outputs": [],
   "source": []
  }
 ],
 "metadata": {
  "kernelspec": {
   "display_name": "Python 3",
   "language": "python",
   "name": "python3"
  },
  "language_info": {
   "codemirror_mode": {
    "name": "ipython",
    "version": 3
   },
   "file_extension": ".py",
   "mimetype": "text/x-python",
   "name": "python",
   "nbconvert_exporter": "python",
   "pygments_lexer": "ipython3",
   "version": "3.7.6"
  }
 },
 "nbformat": 4,
 "nbformat_minor": 4
}
